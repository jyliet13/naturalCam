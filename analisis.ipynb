{
 "cells": [
  {
   "cell_type": "code",
   "id": "initial_id",
   "metadata": {
    "collapsed": true,
    "ExecuteTime": {
     "end_time": "2025-05-20T22:14:16.534697Z",
     "start_time": "2025-05-20T22:14:06.209456Z"
    }
   },
   "source": [
    "import tensorflow as tf\n",
    "import numpy as np\n",
    "from sklearn.metrics import classification_report, confusion_matrix\n",
    "import matplotlib.pyplot as plt\n"
   ],
   "outputs": [],
   "execution_count": 1
  },
  {
   "metadata": {},
   "cell_type": "markdown",
   "source": "CARGAR MODELO ENTRENADO",
   "id": "5901acd59d11bf6a"
  },
  {
   "metadata": {
    "ExecuteTime": {
     "end_time": "2025-05-20T22:14:23.018662Z",
     "start_time": "2025-05-20T22:14:21.707017Z"
    }
   },
   "cell_type": "code",
   "source": "model = tf.keras.models.load_model(\"fossil_classifier.keras\")",
   "id": "2f6ee8ff4cdbb375",
   "outputs": [],
   "execution_count": 3
  },
  {
   "metadata": {},
   "cell_type": "markdown",
   "source": "cagar las clases",
   "id": "d7db414ec670f380"
  },
  {
   "metadata": {
    "ExecuteTime": {
     "end_time": "2025-05-20T22:15:14.918737Z",
     "start_time": "2025-05-20T22:15:14.905556Z"
    }
   },
   "cell_type": "code",
   "source": "class_names = np.load(\"class_names.npy\")",
   "id": "64ebf9e672f60801",
   "outputs": [],
   "execution_count": 4
  },
  {
   "metadata": {},
   "cell_type": "markdown",
   "source": "RUTA AL DATASET",
   "id": "e5032eee536d009a"
  },
  {
   "metadata": {
    "ExecuteTime": {
     "end_time": "2025-05-20T22:15:30.546450Z",
     "start_time": "2025-05-20T22:15:30.531020Z"
    }
   },
   "cell_type": "code",
   "source": [
    "dataset_dir = \"Dataset/Fossil/Geo Fossils-I Dataset\"\n",
    "img_size = (150, 150)\n",
    "batch_size = 32"
   ],
   "id": "10afb11eb0b5984c",
   "outputs": [],
   "execution_count": 5
  },
  {
   "metadata": {
    "ExecuteTime": {
     "end_time": "2025-05-20T22:16:24.607880Z",
     "start_time": "2025-05-20T22:16:24.271295Z"
    }
   },
   "cell_type": "code",
   "source": [
    "# Cargar dataset de validación\n",
    "val_ds = tf.keras.utils.image_dataset_from_directory(\n",
    "    dataset_dir,\n",
    "    validation_split=0.2,\n",
    "    subset=\"validation\",\n",
    "    seed=123,\n",
    "    image_size=img_size,\n",
    "    batch_size=batch_size\n",
    ").cache().prefetch(buffer_size=tf.data.AUTOTUNE)"
   ],
   "id": "10ae65ac5d612a87",
   "outputs": [
    {
     "name": "stdout",
     "output_type": "stream",
     "text": [
      "Found 1200 files belonging to 6 classes.\n",
      "Using 240 files for validation.\n"
     ]
    }
   ],
   "execution_count": 6
  },
  {
   "metadata": {
    "ExecuteTime": {
     "end_time": "2025-05-20T22:16:33.690358Z",
     "start_time": "2025-05-20T22:16:30.995720Z"
    }
   },
   "cell_type": "code",
   "source": [
    "# Obtener etiquetas verdaderas y predicciones\n",
    "y_true = []\n",
    "y_pred = []\n",
    "\n",
    "for images, labels in val_ds:\n",
    "    preds = model.predict(images)\n",
    "    y_true.extend(labels.numpy())\n",
    "    y_pred.extend(np.argmax(preds, axis=1))"
   ],
   "id": "ae7c0427d2faf526",
   "outputs": [
    {
     "name": "stdout",
     "output_type": "stream",
     "text": [
      "\u001B[1m1/1\u001B[0m \u001B[32m━━━━━━━━━━━━━━━━━━━━\u001B[0m\u001B[37m\u001B[0m \u001B[1m0s\u001B[0m 408ms/step\n",
      "\u001B[1m1/1\u001B[0m \u001B[32m━━━━━━━━━━━━━━━━━━━━\u001B[0m\u001B[37m\u001B[0m \u001B[1m0s\u001B[0m 143ms/step\n",
      "\u001B[1m1/1\u001B[0m \u001B[32m━━━━━━━━━━━━━━━━━━━━\u001B[0m\u001B[37m\u001B[0m \u001B[1m0s\u001B[0m 150ms/step\n",
      "\u001B[1m1/1\u001B[0m \u001B[32m━━━━━━━━━━━━━━━━━━━━\u001B[0m\u001B[37m\u001B[0m \u001B[1m0s\u001B[0m 157ms/step\n",
      "\u001B[1m1/1\u001B[0m \u001B[32m━━━━━━━━━━━━━━━━━━━━\u001B[0m\u001B[37m\u001B[0m \u001B[1m0s\u001B[0m 153ms/step\n",
      "\u001B[1m1/1\u001B[0m \u001B[32m━━━━━━━━━━━━━━━━━━━━\u001B[0m\u001B[37m\u001B[0m \u001B[1m0s\u001B[0m 151ms/step\n",
      "\u001B[1m1/1\u001B[0m \u001B[32m━━━━━━━━━━━━━━━━━━━━\u001B[0m\u001B[37m\u001B[0m \u001B[1m0s\u001B[0m 158ms/step\n",
      "\u001B[1m1/1\u001B[0m \u001B[32m━━━━━━━━━━━━━━━━━━━━\u001B[0m\u001B[37m\u001B[0m \u001B[1m0s\u001B[0m 207ms/step\n"
     ]
    }
   ],
   "execution_count": 7
  },
  {
   "metadata": {
    "ExecuteTime": {
     "end_time": "2025-05-20T22:16:40.896283Z",
     "start_time": "2025-05-20T22:16:40.861489Z"
    }
   },
   "cell_type": "code",
   "source": [
    "# Reporte de clasificación\n",
    "print(\"Reporte de clasificación:\\n\")\n",
    "print(classification_report(y_true, y_pred, target_names=class_names))"
   ],
   "id": "ebeb6b631ae95926",
   "outputs": [
    {
     "name": "stdout",
     "output_type": "stream",
     "text": [
      "Reporte de clasificación:\n",
      "\n",
      "              precision    recall  f1-score   support\n",
      "\n",
      "   Ammonites       0.68      0.61      0.64        38\n",
      "  Belemnites       0.56      0.94      0.70        33\n",
      "      Corals       0.82      0.71      0.76        59\n",
      "    Crinoids       0.76      0.33      0.46        39\n",
      "Leaf fossils       0.66      0.80      0.72        44\n",
      "  Trilobites       0.80      0.89      0.84        27\n",
      "\n",
      "    accuracy                           0.70       240\n",
      "   macro avg       0.71      0.71      0.69       240\n",
      "weighted avg       0.72      0.70      0.69       240\n",
      "\n"
     ]
    }
   ],
   "execution_count": 8
  },
  {
   "metadata": {
    "ExecuteTime": {
     "end_time": "2025-05-20T22:18:51.270401Z",
     "start_time": "2025-05-20T22:18:51.253670Z"
    }
   },
   "cell_type": "code",
   "source": [
    "# Matriz de confusión\n",
    "print(\"Matriz de confusión:\")\n",
    "print(confusion_matrix(y_true, y_pred))"
   ],
   "id": "5cab37ffea5e7f06",
   "outputs": [
    {
     "name": "stdout",
     "output_type": "stream",
     "text": [
      "Matriz de confusión:\n",
      "[[23  7  3  1  4  0]\n",
      " [ 1 31  0  0  1  0]\n",
      " [ 3  6 42  2  5  1]\n",
      " [ 6  6  4 13  7  3]\n",
      " [ 1  3  2  1 35  2]\n",
      " [ 0  2  0  0  1 24]]\n"
     ]
    }
   ],
   "execution_count": 9
  },
  {
   "metadata": {
    "ExecuteTime": {
     "end_time": "2025-05-20T22:18:57.677972Z",
     "start_time": "2025-05-20T22:18:57.351628Z"
    }
   },
   "cell_type": "code",
   "source": [
    "#  Gráfica de matriz de confusión\n",
    "import seaborn as sns\n",
    "cm = confusion_matrix(y_true, y_pred)\n",
    "plt.figure(figsize=(8,6))\n",
    "sns.heatmap(cm, annot=True, fmt=\"d\", xticklabels=class_names, yticklabels=class_names, cmap=\"Blues\")\n",
    "plt.xlabel(\"Predicción\")\n",
    "plt.ylabel(\"Real\")\n",
    "plt.title(\"Matriz de Confusión\")\n",
    "plt.show()"
   ],
   "id": "98e6066c4d7e966b",
   "outputs": [
    {
     "data": {
      "text/plain": [
       "<Figure size 800x600 with 2 Axes>"
      ],
      "image/png": "[encoded data removed]"
     },
     "metadata": {},
     "output_type": "display_data"
    }
   ],
   "execution_count": 10
  }
 ],
 "metadata": {
  "kernelspec": {
   "display_name": "Python 3",
   "language": "python",
   "name": "python3"
  },
  "language_info": {
   "codemirror_mode": {
    "name": "ipython",
    "version": 2
   },
   "file_extension": ".py",
   "mimetype": "text/x-python",
   "name": "python",
   "nbconvert_exporter": "python",
   "pygments_lexer": "ipython2",
   "version": "2.7.6"
  }
 },
 "nbformat": 4,
 "nbformat_minor": 5
}
